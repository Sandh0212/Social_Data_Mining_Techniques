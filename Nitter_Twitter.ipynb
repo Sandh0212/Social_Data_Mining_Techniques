{
 "cells": [
  {
   "cell_type": "code",
   "execution_count": 1,
   "id": "e034739d",
   "metadata": {},
   "outputs": [
    {
     "name": "stdout",
     "output_type": "stream",
     "text": [
      "Requirement already satisfied: ntscraper in c:\\users\\sandh\\anaconda3\\lib\\site-packages (0.3.13)\n",
      "Requirement already satisfied: requests in c:\\users\\sandh\\anaconda3\\lib\\site-packages (from ntscraper) (2.31.0)\n",
      "Requirement already satisfied: beautifulsoup4 in c:\\users\\sandh\\anaconda3\\lib\\site-packages (from ntscraper) (4.12.2)\n",
      "Requirement already satisfied: lxml in c:\\users\\sandh\\anaconda3\\lib\\site-packages (from ntscraper) (4.9.3)\n",
      "Requirement already satisfied: soupsieve>1.2 in c:\\users\\sandh\\anaconda3\\lib\\site-packages (from beautifulsoup4->ntscraper) (2.4)\n",
      "Requirement already satisfied: charset-normalizer<4,>=2 in c:\\users\\sandh\\anaconda3\\lib\\site-packages (from requests->ntscraper) (2.0.4)\n",
      "Requirement already satisfied: idna<4,>=2.5 in c:\\users\\sandh\\anaconda3\\lib\\site-packages (from requests->ntscraper) (3.4)\n",
      "Requirement already satisfied: urllib3<3,>=1.21.1 in c:\\users\\sandh\\anaconda3\\lib\\site-packages (from requests->ntscraper) (1.26.16)\n",
      "Requirement already satisfied: certifi>=2017.4.17 in c:\\users\\sandh\\anaconda3\\lib\\site-packages (from requests->ntscraper) (2023.7.22)\n",
      "Note: you may need to restart the kernel to use updated packages.\n"
     ]
    }
   ],
   "source": [
    "pip install ntscraper"
   ]
  },
  {
   "cell_type": "code",
   "execution_count": 2,
   "id": "a7324aec",
   "metadata": {},
   "outputs": [],
   "source": [
    "from ntscraper import Nitter"
   ]
  },
  {
   "cell_type": "code",
   "execution_count": 11,
   "id": "77349e01",
   "metadata": {},
   "outputs": [
    {
     "name": "stdout",
     "output_type": "stream",
     "text": [
      "09-Jun-24 21:29:04 - NumExpr defaulting to 8 threads.\n"
     ]
    },
    {
     "name": "stderr",
     "output_type": "stream",
     "text": [
      "Testing instances:  71%|███████▏  | 55/77 [01:29<00:26,  1.21s/it]"
     ]
    },
    {
     "name": "stdout",
     "output_type": "stream",
     "text": [
      "09-Jun-24 21:30:38 - Certificate did not match expected hostname: nitter.no-logs.com. Certificate: {'subject': ((('commonName', 'no-logs.com'),),), 'issuer': ((('countryName', 'US'),), (('organizationName', \"Let's Encrypt\"),), (('commonName', 'R3'),)), 'version': 3, 'serialNumber': '03D031100DF5685B02FBBE1577956863687F', 'notBefore': 'May 14 21:29:50 2024 GMT', 'notAfter': 'Aug 12 21:29:49 2024 GMT', 'subjectAltName': (('DNS', 'no-logs.com'),), 'OCSP': ('http://r3.o.lencr.org',), 'caIssuers': ('http://r3.i.lencr.org/',)}\n"
     ]
    },
    {
     "name": "stderr",
     "output_type": "stream",
     "text": [
      "Testing instances:  92%|█████████▏| 71/77 [02:25<00:11,  1.84s/it]"
     ]
    },
    {
     "name": "stdout",
     "output_type": "stream",
     "text": [
      "09-Jun-24 21:31:34 - Certificate did not match expected hostname: nt.ggtyler.dev. Certificate: {'subject': ((('commonName', '4g.ggtyler.dev'),),), 'issuer': ((('countryName', 'US'),), (('organizationName', \"Let's Encrypt\"),), (('commonName', 'R3'),)), 'version': 3, 'serialNumber': '03A4459CE6DA31CFF555DB78FF3F35BFEA88', 'notBefore': 'May 14 10:55:44 2024 GMT', 'notAfter': 'Aug 12 10:55:43 2024 GMT', 'subjectAltName': (('DNS', '4g.ggtyler.dev'),), 'OCSP': ('http://r3.o.lencr.org',), 'caIssuers': ('http://r3.i.lencr.org/',)}\n"
     ]
    },
    {
     "name": "stderr",
     "output_type": "stream",
     "text": [
      "\r",
      "Testing instances:  94%|█████████▎| 72/77 [02:26<00:08,  1.71s/it]"
     ]
    },
    {
     "name": "stdout",
     "output_type": "stream",
     "text": [
      "09-Jun-24 21:31:35 - Certificate did not match expected hostname: nitter.uni-sonia.com. Certificate: {'subject': ((('commonName', '*.xserver.jp'),),), 'issuer': ((('countryName', 'JP'),), (('organizationName', 'CloudSecure Corporation'),), (('commonName', 'CloudSecure RSA Domain Validation Secure Server CA 2'),)), 'version': 3, 'serialNumber': 'ACA67AD2030638EE2DCE8E845B8299A6', 'notBefore': 'Mar 11 00:00:00 2024 GMT', 'notAfter': 'Apr 11 23:59:59 2025 GMT', 'subjectAltName': (('DNS', '*.xserver.jp'), ('DNS', 'xserver.jp')), 'OCSP': ('http://ocsp.sectigo.com',), 'caIssuers': ('http://crt.sectigo.com/CloudSecureRSADomainValidationSecureServerCA2.crt',)}\n"
     ]
    },
    {
     "name": "stderr",
     "output_type": "stream",
     "text": [
      "Testing instances: 100%|██████████| 77/77 [02:47<00:00,  2.17s/it]\n"
     ]
    }
   ],
   "source": [
    "import pandas as pd\n",
    "from ntscraper import Nitter\n",
    "scraper = Nitter(log_level = 1,skip_instance_check = False)\n",
    "\n",
    "def create_tweets_dataset(username,no_of_tweets):\n",
    "  tweets = scraper.get_tweets(username,mode=\"user\",number=no_of_tweets)\n",
    "  data = {\n",
    "    'link':[],\n",
    "    'text':[],\n",
    "    'user':[],\n",
    "    'likes':[],\n",
    "    'quotes':[],\n",
    "    'retweets':[],\n",
    "    'comments':[],\n",
    "  }\n",
    "\n",
    "  for tweet in tweets['tweets']:\n",
    "    data['link'].append(tweet['link'])\n",
    "    data['text'].append(tweet['text'])\n",
    "    data['user'].append(tweet['user']['name'])\n",
    "    data['likes'].append(tweet['stats']['likes'])\n",
    "    data['quotes'].append(tweet['stats']['quotes'])\n",
    "    data['retweets'].append(tweet['stats']['retweets'])\n",
    "    data['comments'].append(tweet['stats']['comments'])\n",
    "\n",
    "  df = pd.DataFrame(data)\n",
    "\n",
    "  df.to_csv(username+\"_tweets_data.csv\")\n",
    "  df.head()\n"
   ]
  },
  {
   "cell_type": "code",
   "execution_count": 12,
   "id": "a4bcd7f0",
   "metadata": {},
   "outputs": [
    {
     "name": "stdout",
     "output_type": "stream",
     "text": [
      "09-Jun-24 21:32:54 - No instance specified, using random instance https://nitter.privacydev.net\n",
      "09-Jun-24 21:33:03 - Current stats for rntata2000: 20 tweets, 0 threads...\n",
      "09-Jun-24 21:33:08 - Current stats for rntata2000: 40 tweets, 0 threads...\n",
      "09-Jun-24 21:33:13 - Current stats for rntata2000: 60 tweets, 0 threads...\n",
      "09-Jun-24 21:33:15 - Empty page on https://nitter.privacydev.net\n"
     ]
    }
   ],
   "source": [
    "create_tweets_dataset(\"rntata2000\",100)"
   ]
  },
  {
   "cell_type": "code",
   "execution_count": 13,
   "id": "d090cff6",
   "metadata": {},
   "outputs": [
    {
     "name": "stdout",
     "output_type": "stream",
     "text": [
      "09-Jun-24 21:35:09 - No instance specified, using random instance https://nitter.privacydev.net\n",
      "{'bio': 'Chairman Emeritus, Tata Sons. Chairman, Tata Trusts',\n",
      " 'id': '',\n",
      " 'image': 'https://pbs.twimg.com/profile_images/1189494401359208448/AwbXHtpn_400x400.jpg',\n",
      " 'joined': '11:01 AM - 5 Apr 2011',\n",
      " 'location': 'Mumbai',\n",
      " 'name': 'Ratan N. Tata',\n",
      " 'stats': {'followers': 12997558,\n",
      "           'following': 7,\n",
      "           'likes': 19,\n",
      "           'media': 0,\n",
      "           'tweets': 188},\n",
      " 'username': '@RNTata2000',\n",
      " 'website': ''}\n"
     ]
    }
   ],
   "source": [
    "rntata_info = scraper.get_profile_info(username=\"rntata2000\")\n",
    "pprint(rntata_info)"
   ]
  }
 ],
 "metadata": {
  "kernelspec": {
   "display_name": "Python 3 (ipykernel)",
   "language": "python",
   "name": "python3"
  },
  "language_info": {
   "codemirror_mode": {
    "name": "ipython",
    "version": 3
   },
   "file_extension": ".py",
   "mimetype": "text/x-python",
   "name": "python",
   "nbconvert_exporter": "python",
   "pygments_lexer": "ipython3",
   "version": "3.11.5"
  }
 },
 "nbformat": 4,
 "nbformat_minor": 5
}
