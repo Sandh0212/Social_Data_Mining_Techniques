{
 "cells": [
  {
   "cell_type": "code",
   "execution_count": 1,
   "id": "577b2f5d",
   "metadata": {},
   "outputs": [],
   "source": [
    "import pandas as pd \n",
    "import numpy as np"
   ]
  },
  {
   "cell_type": "code",
   "execution_count": 2,
   "id": "b2ddca1b",
   "metadata": {},
   "outputs": [],
   "source": [
    "dataset=pd.read_excel(r'C:\\Users\\sandh\\Downloads\\Weekly_Assignment.xlsx')"
   ]
  },
  {
   "cell_type": "code",
   "execution_count": 3,
   "id": "e01d6a42",
   "metadata": {},
   "outputs": [
    {
     "data": {
      "text/plain": [
       "User_ID           0.000000\n",
       "Age              25.000000\n",
       "Gender            8.333333\n",
       "Location          8.333333\n",
       "Followers        33.333333\n",
       "Following        33.333333\n",
       "Posts            33.333333\n",
       "Likes             8.333333\n",
       "Comments         33.333333\n",
       "Shares           16.666667\n",
       "Small_Numbers    16.666667\n",
       "dtype: float64"
      ]
     },
     "execution_count": 3,
     "metadata": {},
     "output_type": "execute_result"
    }
   ],
   "source": [
    "#check the percentage of nulls in all the features , set a threshold level to exclude features with set % of nulls\n",
    "dataset.isnull().sum()/len(dataset)*100"
   ]
  },
  {
   "cell_type": "code",
   "execution_count": 4,
   "id": "fadd8610",
   "metadata": {},
   "outputs": [
    {
     "data": {
      "text/plain": [
       "User_ID          0\n",
       "Age              3\n",
       "Gender           1\n",
       "Location         1\n",
       "Followers        4\n",
       "Following        4\n",
       "Posts            4\n",
       "Likes            1\n",
       "Comments         4\n",
       "Shares           2\n",
       "Small_Numbers    2\n",
       "dtype: int64"
      ]
     },
     "execution_count": 4,
     "metadata": {},
     "output_type": "execute_result"
    }
   ],
   "source": [
    "#check for nulls \n",
    "dataset.isnull().sum()"
   ]
  },
  {
   "cell_type": "code",
   "execution_count": 5,
   "id": "b8059077",
   "metadata": {},
   "outputs": [],
   "source": [
    "df = pd.DataFrame(dataset)"
   ]
  },
  {
   "cell_type": "code",
   "execution_count": 6,
   "id": "3d414e5a",
   "metadata": {},
   "outputs": [
    {
     "name": "stdout",
     "output_type": "stream",
     "text": [
      "    User_ID   Age  Gender     Location  Followers  Following   Posts   Likes  \\\n",
      "0         1  25.0    Male     New York      500.0      300.0   100.0   250.0   \n",
      "1         2  32.0  Female  Los Angeles     1000.0      700.0   150.0   500.0   \n",
      "2         3   NaN    Male       London        NaN      500.0     NaN   150.0   \n",
      "3         4  42.0  Female        Paris     2500.0     1000.0   300.0   750.0   \n",
      "4         5   NaN   Other          NaN        NaN        NaN     NaN  1000.0   \n",
      "5         6  29.0    Male       Sydney     1500.0        NaN   200.0   400.0   \n",
      "6         7  37.0     NaN        Tokyo      800.0      600.0     NaN     NaN   \n",
      "7         8  28.0  Female       Berlin        NaN        NaN   100.0   300.0   \n",
      "8         9  35.0   Other       Moscow     4000.0     1200.0   400.0   900.0   \n",
      "9        10   NaN    Male      Chicago        NaN        NaN     NaN   600.0   \n",
      "10       11  65.0  Female  Los Angeles    10000.0     5000.0  1000.0  1500.0   \n",
      "11       12  22.0    Male     New York      800.0      900.0   500.0   800.0   \n",
      "\n",
      "    Comments  Shares  Small_Numbers  \n",
      "0       50.0    10.0      20000.000  \n",
      "1       75.0    20.0          0.003  \n",
      "2       25.0     5.0          0.001  \n",
      "3        NaN    30.0            NaN  \n",
      "4      100.0    15.0          0.007  \n",
      "5       50.0     NaN          0.006  \n",
      "6        NaN     NaN          0.001  \n",
      "7        NaN     8.0            NaN  \n",
      "8       80.0    25.0          0.002  \n",
      "9        NaN    12.0          0.003  \n",
      "10     200.0   500.0      10000.000  \n",
      "11     300.0   100.0          0.008  \n"
     ]
    }
   ],
   "source": [
    "print(df)"
   ]
  },
  {
   "cell_type": "code",
   "execution_count": 7,
   "id": "ff14106b",
   "metadata": {},
   "outputs": [],
   "source": [
    "#fill in the age,followers,following,Posts,Comments column with the mean values\n",
    "df['Age'].fillna(df['Age'].mean(),inplace=True)\n",
    "df['Followers'].fillna(df['Followers'].mean(),inplace=True)\n",
    "df['Following'].fillna(df['Following'].mean(),inplace=True)\n",
    "df['Posts'].fillna(df['Posts'].mean(),inplace=True)\n",
    "df['Comments'].fillna(df['Comments'].mean(),inplace=True)"
   ]
  },
  {
   "cell_type": "code",
   "execution_count": 8,
   "id": "4efbd1c1",
   "metadata": {},
   "outputs": [],
   "source": [
    "#fill in the small_numbers with the most common value mode since it has only 2 missing values.\n",
    "df['Small_Numbers'].fillna(df['Small_Numbers'].mode()[0],inplace=True)"
   ]
  },
  {
   "cell_type": "code",
   "execution_count": 9,
   "id": "a706e724",
   "metadata": {},
   "outputs": [],
   "source": [
    "df['Gender'].fillna(df['Gender'].mode()[0],inplace=True)"
   ]
  },
  {
   "cell_type": "code",
   "execution_count": 10,
   "id": "f1979a1d",
   "metadata": {},
   "outputs": [],
   "source": [
    "df['Location'].fillna(df['Location'].mode()[0],inplace=True)"
   ]
  },
  {
   "cell_type": "code",
   "execution_count": 11,
   "id": "d5d7e393",
   "metadata": {},
   "outputs": [],
   "source": [
    "# fill in Likes and Shares columns with median value\n",
    "df['Likes'].fillna(df['Likes'].median(),inplace=True)\n",
    "df['Shares'].fillna(df['Shares'].median(),inplace=True)"
   ]
  },
  {
   "cell_type": "code",
   "execution_count": 12,
   "id": "a3013a16",
   "metadata": {},
   "outputs": [
    {
     "name": "stdout",
     "output_type": "stream",
     "text": [
      "    User_ID   Age  Gender     Location  Followers  Following    Posts   Likes  \\\n",
      "0         1  25.0    Male     New York      500.0      300.0   100.00   250.0   \n",
      "1         2  32.0  Female  Los Angeles     1000.0      700.0   150.00   500.0   \n",
      "2         3  35.0    Male       London     2637.5      500.0   343.75   150.0   \n",
      "3         4  42.0  Female        Paris     2500.0     1000.0   300.00   750.0   \n",
      "4         5  35.0   Other  Los Angeles     2637.5     1275.0   343.75  1000.0   \n",
      "5         6  29.0    Male       Sydney     1500.0     1275.0   200.00   400.0   \n",
      "6         7  37.0    Male        Tokyo      800.0      600.0   343.75   600.0   \n",
      "7         8  28.0  Female       Berlin     2637.5     1275.0   100.00   300.0   \n",
      "8         9  35.0   Other       Moscow     4000.0     1200.0   400.00   900.0   \n",
      "9        10  35.0    Male      Chicago     2637.5     1275.0   343.75   600.0   \n",
      "10       11  65.0  Female  Los Angeles    10000.0     5000.0  1000.00  1500.0   \n",
      "11       12  22.0    Male     New York      800.0      900.0   500.00   800.0   \n",
      "\n",
      "    Comments  Shares  Small_Numbers  \n",
      "0       50.0    10.0      20000.000  \n",
      "1       75.0    20.0          0.003  \n",
      "2       25.0     5.0          0.001  \n",
      "3      110.0    30.0          0.001  \n",
      "4      100.0    15.0          0.007  \n",
      "5       50.0    17.5          0.006  \n",
      "6      110.0    17.5          0.001  \n",
      "7      110.0     8.0          0.001  \n",
      "8       80.0    25.0          0.002  \n",
      "9      110.0    12.0          0.003  \n",
      "10     200.0   500.0      10000.000  \n",
      "11     300.0   100.0          0.008  \n"
     ]
    }
   ],
   "source": [
    "print(df)"
   ]
  },
  {
   "cell_type": "code",
   "execution_count": 13,
   "id": "db24db9e",
   "metadata": {},
   "outputs": [],
   "source": [
    "import scipy.stats as stats"
   ]
  },
  {
   "cell_type": "code",
   "execution_count": 14,
   "id": "450283ab",
   "metadata": {
    "scrolled": true
   },
   "outputs": [
    {
     "name": "stdout",
     "output_type": "stream",
     "text": [
      "0     2.940588\n",
      "1    -0.420084\n",
      "2    -0.420084\n",
      "3    -0.420084\n",
      "4    -0.420083\n",
      "5    -0.420084\n",
      "6    -0.420084\n",
      "7    -0.420084\n",
      "8    -0.420084\n",
      "9    -0.420084\n",
      "10    1.260252\n",
      "11   -0.420083\n",
      "Name: Small_Numbers, dtype: float64\n",
      "Outliers\n",
      "0     20000.0\n",
      "10    10000.0\n",
      "Name: Small_Numbers, dtype: float64\n"
     ]
    }
   ],
   "source": [
    "#calculate z scores\n",
    "z_scores=stats.zscore(df['Small_Numbers'])\n",
    "print(z_scores)\n",
    "threshold = 0.5\n",
    "outliers = df.Small_Numbers[np.abs(z_scores) > threshold]\n",
    "print(\"Outliers\")\n",
    "print(outliers)"
   ]
  },
  {
   "cell_type": "code",
   "execution_count": 15,
   "id": "c32ee79f",
   "metadata": {},
   "outputs": [
    {
     "name": "stdout",
     "output_type": "stream",
     "text": [
      "0    -0.398482\n",
      "1    -0.323766\n",
      "2    -0.435839\n",
      "3    -0.249051\n",
      "4    -0.361124\n",
      "5    -0.342445\n",
      "6    -0.342445\n",
      "7    -0.413425\n",
      "8    -0.286409\n",
      "9    -0.383539\n",
      "10    3.262569\n",
      "11    0.273956\n",
      "Name: Shares, dtype: float64\n",
      "Outliers\n",
      "10    500.0\n",
      "Name: Shares, dtype: float64\n"
     ]
    }
   ],
   "source": [
    "#calculate z scores\n",
    "z_scores=stats.zscore(df['Shares'])\n",
    "print(z_scores)\n",
    "threshold = 3\n",
    "outliers = dataset.Shares[np.abs(z_scores) > threshold]\n",
    "print(\"Outliers\")\n",
    "print(outliers)"
   ]
  },
  {
   "cell_type": "code",
   "execution_count": 16,
   "id": "dfc3973c",
   "metadata": {},
   "outputs": [
    {
     "name": "stdout",
     "output_type": "stream",
     "text": [
      "0    -0.833125\n",
      "1    -0.491330\n",
      "2    -0.662228\n",
      "3    -0.234984\n",
      "4     0.000000\n",
      "5     0.000000\n",
      "6    -0.576779\n",
      "7     0.000000\n",
      "8    -0.064087\n",
      "9     0.000000\n",
      "10    3.182966\n",
      "11   -0.320433\n",
      "Name: Following, dtype: float64\n",
      "Outliers\n",
      "10    5000.0\n",
      "Name: Following, dtype: float64\n"
     ]
    }
   ],
   "source": [
    "#calculate z scores\n",
    "z_scores=stats.zscore(df['Following'])\n",
    "print(z_scores)\n",
    "threshold = 3\n",
    "outliers = dataset.Following[np.abs(z_scores) > threshold]\n",
    "print(\"Outliers\")\n",
    "print(outliers)"
   ]
  },
  {
   "cell_type": "code",
   "execution_count": 17,
   "id": "34e6346c",
   "metadata": {
    "scrolled": true
   },
   "outputs": [
    {
     "name": "stdout",
     "output_type": "stream",
     "text": [
      "0    -0.876420\n",
      "1    -0.671409\n",
      "2     0.000000\n",
      "3    -0.056378\n",
      "4     0.000000\n",
      "5    -0.466399\n",
      "6    -0.753414\n",
      "7     0.000000\n",
      "8     0.558654\n",
      "9     0.000000\n",
      "10    3.018780\n",
      "11   -0.753414\n",
      "Name: Followers, dtype: float64\n",
      "Outliers\n",
      "10    10000.0\n",
      "Name: Followers, dtype: float64\n"
     ]
    }
   ],
   "source": [
    "#calculate z scores\n",
    "z_scores=stats.zscore(df['Followers'])\n",
    "print(z_scores)\n",
    "threshold = 3\n",
    "outliers = dataset.Followers[np.abs(z_scores) > threshold]\n",
    "print(\"Outliers\")\n",
    "print(outliers)"
   ]
  },
  {
   "cell_type": "code",
   "execution_count": 18,
   "id": "26c72d50",
   "metadata": {},
   "outputs": [],
   "source": [
    "small_numbers_new = np.log1p(df.Small_Numbers)"
   ]
  },
  {
   "cell_type": "code",
   "execution_count": 19,
   "id": "6b1eb95c",
   "metadata": {},
   "outputs": [
    {
     "name": "stdout",
     "output_type": "stream",
     "text": [
      "0     9.903538\n",
      "1     0.002996\n",
      "2     0.001000\n",
      "3     0.001000\n",
      "4     0.006976\n",
      "5     0.005982\n",
      "6     0.001000\n",
      "7     0.001000\n",
      "8     0.001998\n",
      "9     0.002996\n",
      "10    9.210440\n",
      "11    0.007968\n",
      "Name: Small_Numbers, dtype: float64\n"
     ]
    }
   ],
   "source": [
    "print (small_numbers_new)"
   ]
  },
  {
   "cell_type": "code",
   "execution_count": 20,
   "id": "a2315c8a",
   "metadata": {},
   "outputs": [],
   "source": [
    "Shares_new = np.log1p(df.Shares)"
   ]
  },
  {
   "cell_type": "code",
   "execution_count": 21,
   "id": "5192de24",
   "metadata": {},
   "outputs": [],
   "source": [
    "Following_new = np.log1p(df.Following)"
   ]
  },
  {
   "cell_type": "code",
   "execution_count": 22,
   "id": "6aec2622",
   "metadata": {},
   "outputs": [],
   "source": [
    "Followers_new = np.log1p(df.Followers)"
   ]
  },
  {
   "cell_type": "code",
   "execution_count": 23,
   "id": "dd1ba69d",
   "metadata": {},
   "outputs": [],
   "source": [
    "columns_to_copy = ['User_ID', 'Age', 'Gender', 'Location','Posts','Likes','Comments']"
   ]
  },
  {
   "cell_type": "code",
   "execution_count": 24,
   "id": "ff2d1f1d",
   "metadata": {},
   "outputs": [],
   "source": [
    "new_df = pd.DataFrame(df)"
   ]
  },
  {
   "cell_type": "code",
   "execution_count": 25,
   "id": "9f8b4e53",
   "metadata": {},
   "outputs": [],
   "source": [
    "new_df = df[columns_to_copy]"
   ]
  },
  {
   "cell_type": "code",
   "execution_count": 26,
   "id": "108183dc",
   "metadata": {},
   "outputs": [
    {
     "name": "stderr",
     "output_type": "stream",
     "text": [
      "C:\\Users\\sandh\\AppData\\Local\\Temp\\ipykernel_844656\\3512223114.py:1: SettingWithCopyWarning: \n",
      "A value is trying to be set on a copy of a slice from a DataFrame.\n",
      "Try using .loc[row_indexer,col_indexer] = value instead\n",
      "\n",
      "See the caveats in the documentation: https://pandas.pydata.org/pandas-docs/stable/user_guide/indexing.html#returning-a-view-versus-a-copy\n",
      "  new_df.loc[:,'shares'] = Shares_new\n"
     ]
    }
   ],
   "source": [
    "new_df.loc[:,'shares'] = Shares_new"
   ]
  },
  {
   "cell_type": "code",
   "execution_count": 27,
   "id": "0032d617",
   "metadata": {},
   "outputs": [
    {
     "name": "stderr",
     "output_type": "stream",
     "text": [
      "C:\\Users\\sandh\\AppData\\Local\\Temp\\ipykernel_844656\\927355671.py:1: SettingWithCopyWarning: \n",
      "A value is trying to be set on a copy of a slice from a DataFrame.\n",
      "Try using .loc[row_indexer,col_indexer] = value instead\n",
      "\n",
      "See the caveats in the documentation: https://pandas.pydata.org/pandas-docs/stable/user_guide/indexing.html#returning-a-view-versus-a-copy\n",
      "  new_df.loc[:,'small_numbers'] = small_numbers_new\n"
     ]
    }
   ],
   "source": [
    "new_df.loc[:,'small_numbers'] = small_numbers_new"
   ]
  },
  {
   "cell_type": "code",
   "execution_count": 28,
   "id": "65e4b828",
   "metadata": {},
   "outputs": [
    {
     "name": "stderr",
     "output_type": "stream",
     "text": [
      "C:\\Users\\sandh\\AppData\\Local\\Temp\\ipykernel_844656\\4286273482.py:1: SettingWithCopyWarning: \n",
      "A value is trying to be set on a copy of a slice from a DataFrame.\n",
      "Try using .loc[row_indexer,col_indexer] = value instead\n",
      "\n",
      "See the caveats in the documentation: https://pandas.pydata.org/pandas-docs/stable/user_guide/indexing.html#returning-a-view-versus-a-copy\n",
      "  new_df.loc[:, 'Following'] = Following_new\n"
     ]
    }
   ],
   "source": [
    "new_df.loc[:, 'Following'] = Following_new"
   ]
  },
  {
   "cell_type": "code",
   "execution_count": 29,
   "id": "66ce5125",
   "metadata": {},
   "outputs": [],
   "source": [
    "new_df.loc[:, 'Followers'] = Followers_new"
   ]
  },
  {
   "cell_type": "code",
   "execution_count": 30,
   "id": "cc357969",
   "metadata": {},
   "outputs": [
    {
     "name": "stdout",
     "output_type": "stream",
     "text": [
      "    User_ID   Age  Gender     Location    Posts   Likes  Comments    shares  \\\n",
      "0         1  25.0    Male     New York   100.00   250.0      50.0  2.397895   \n",
      "1         2  32.0  Female  Los Angeles   150.00   500.0      75.0  3.044522   \n",
      "2         3  35.0    Male       London   343.75   150.0      25.0  1.791759   \n",
      "3         4  42.0  Female        Paris   300.00   750.0     110.0  3.433987   \n",
      "4         5  35.0   Other  Los Angeles   343.75  1000.0     100.0  2.772589   \n",
      "5         6  29.0    Male       Sydney   200.00   400.0      50.0  2.917771   \n",
      "6         7  37.0    Male        Tokyo   343.75   600.0     110.0  2.917771   \n",
      "7         8  28.0  Female       Berlin   100.00   300.0     110.0  2.197225   \n",
      "8         9  35.0   Other       Moscow   400.00   900.0      80.0  3.258097   \n",
      "9        10  35.0    Male      Chicago   343.75   600.0     110.0  2.564949   \n",
      "10       11  65.0  Female  Los Angeles  1000.00  1500.0     200.0  6.216606   \n",
      "11       12  22.0    Male     New York   500.00   800.0     300.0  4.615121   \n",
      "\n",
      "    small_numbers  Following  Followers  \n",
      "0        9.903538   5.707110   6.216606  \n",
      "1        0.002996   6.552508   6.908755  \n",
      "2        0.001000   6.216606   7.877966  \n",
      "3        0.001000   6.908755   7.824446  \n",
      "4        0.006976   7.151485   7.877966  \n",
      "5        0.005982   7.151485   7.313887  \n",
      "6        0.001000   6.398595   6.685861  \n",
      "7        0.001000   7.151485   7.877966  \n",
      "8        0.001998   7.090910   8.294300  \n",
      "9        0.002996   7.151485   7.877966  \n",
      "10       9.210440   8.517393   9.210440  \n",
      "11       0.007968   6.803505   6.685861  \n"
     ]
    }
   ],
   "source": [
    "print(new_df)"
   ]
  },
  {
   "cell_type": "code",
   "execution_count": null,
   "id": "5fab9f13",
   "metadata": {},
   "outputs": [],
   "source": [
    "new_df.to_excel(\"Transformed_data.xlsx\")"
   ]
  }
 ],
 "metadata": {
  "kernelspec": {
   "display_name": "Python 3 (ipykernel)",
   "language": "python",
   "name": "python3"
  },
  "language_info": {
   "codemirror_mode": {
    "name": "ipython",
    "version": 3
   },
   "file_extension": ".py",
   "mimetype": "text/x-python",
   "name": "python",
   "nbconvert_exporter": "python",
   "pygments_lexer": "ipython3",
   "version": "3.11.5"
  }
 },
 "nbformat": 4,
 "nbformat_minor": 5
}
